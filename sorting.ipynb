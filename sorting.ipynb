{
 "cells": [
  {
   "cell_type": "markdown",
   "metadata": {},
   "source": [
    "## Bubble Sort"
   ]
  },
  {
   "cell_type": "code",
   "execution_count": 35,
   "metadata": {},
   "outputs": [
    {
     "data": {
      "text/plain": [
       "[1, 3, 4, 5, 6, 7, 8, 9, 15, 17, 18, 20]"
      ]
     },
     "execution_count": 35,
     "metadata": {},
     "output_type": "execute_result"
    }
   ],
   "source": [
    "def bubblesort(arr):\n",
    "    for i in range(len(arr)):\n",
    "        flag = False\n",
    "        for j in range(i+1, len(arr)):\n",
    "            if arr[j] < arr[i]:\n",
    "                flag = True\n",
    "                arr[j], arr[i] = arr[i], arr[j]\n",
    "        if flag == False:\n",
    "            break\n",
    "    return arr\n",
    " \n",
    "arr = [4,7,9,5,8,1,3,6, 15, 17, 18, 20]\n",
    "bubblesort(arr)"
   ]
  },
  {
   "cell_type": "markdown",
   "metadata": {},
   "source": [
    "## Selection Sort"
   ]
  },
  {
   "cell_type": "code",
   "execution_count": 24,
   "metadata": {},
   "outputs": [
    {
     "data": {
      "text/plain": [
       "[1, 3, 4, 5, 6, 7, 8, 9, 15, 17, 18, 20]"
      ]
     },
     "execution_count": 24,
     "metadata": {},
     "output_type": "execute_result"
    }
   ],
   "source": [
    "def selectionsort(arr):\n",
    "    for i in range(len(arr)):\n",
    "        min_i = i\n",
    "        for j in range(i+1, len(arr)):\n",
    "            if arr[j] < arr[min_i]:\n",
    "                min_i = j\n",
    "        if min_i != i:\n",
    "            arr[i], arr[min_i] = arr[min_i], arr[i]\n",
    "    return arr\n",
    "\n",
    "arr = [4,7,9,5,8,1,3,6, 15, 17, 18, 20]\n",
    "selectionsort(arr)"
   ]
  },
  {
   "cell_type": "markdown",
   "metadata": {},
   "source": [
    "## Insertion Sort"
   ]
  },
  {
   "cell_type": "code",
   "execution_count": 33,
   "metadata": {},
   "outputs": [
    {
     "data": {
      "text/plain": [
       "[0, 1, 1, 2, 2, 3, 4, 5, 6, 7, 8, 9, 15, 17, 18, 20]"
      ]
     },
     "execution_count": 33,
     "metadata": {},
     "output_type": "execute_result"
    }
   ],
   "source": [
    "def insertionsort(a):\n",
    "    for i in range(len(a)):\n",
    "        for j in range(i):\n",
    "            if a[j] > a[i]:\n",
    "                a[i], a[j] = a[j], a[i]\n",
    "    return a\n",
    "\n",
    "arr = [4,7,9,5,8,1,3,6,2,2,0,1,15, 17, 18, 20]\n",
    "insertionsort(arr)"
   ]
  },
  {
   "cell_type": "markdown",
   "metadata": {},
   "source": [
    "## Merge Sort"
   ]
  },
  {
   "cell_type": "code",
   "execution_count": 125,
   "metadata": {},
   "outputs": [
    {
     "data": {
      "text/plain": [
       "[1, 1, 2, 2]"
      ]
     },
     "execution_count": 125,
     "metadata": {},
     "output_type": "execute_result"
    }
   ],
   "source": [
    "def sort(l, r, m, arr):\n",
    "    left = arr[l:m+1]\n",
    "    right = arr[m+1:r+1]\n",
    "    k, i, j = l, 0, 0\n",
    "    while i < (m-l+1) and j < (r-m):\n",
    "        if left[i] <= right[j]:\n",
    "            arr[k] = left[i]\n",
    "            i+=1\n",
    "        else:\n",
    "            arr[k] = right[j]\n",
    "            j+=1\n",
    "        k+=1\n",
    "    \n",
    "    while i < (m-l+1):\n",
    "        arr[k] = left[i]\n",
    "        i+=1\n",
    "        k+=1\n",
    "    \n",
    "    while j < (r-m):\n",
    "        arr[k] = right[j]\n",
    "        j+=1\n",
    "        k+=1\n",
    "\n",
    "def merge(l, r, arr):\n",
    "    if l<r:\n",
    "        m = (l+r)//2\n",
    "        merge(l, m, arr)\n",
    "        merge(m+1, r, arr)\n",
    "        sort(l, r, m, arr)\n",
    "\n",
    "def mergesort(arr):\n",
    "    merge(0, len(arr)-1, arr)\n",
    "    return arr\n",
    "\n",
    "#arr = [4,7,9,5,8,1,3,6,2,2,0,1,15, 17, 18, 20]\n",
    "arr = [2,2, 1, 1]\n",
    "mergesort(arr)\n"
   ]
  },
  {
   "cell_type": "markdown",
   "metadata": {},
   "source": [
    "## Quick  Sort"
   ]
  },
  {
   "cell_type": "code",
   "execution_count": 165,
   "metadata": {
    "scrolled": true
   },
   "outputs": [
    {
     "data": {
      "text/plain": [
       "[0, 1, 1, 2, 2, 3, 3, 4, 5, 6, 7, 8, 9]"
      ]
     },
     "execution_count": 165,
     "metadata": {},
     "output_type": "execute_result"
    }
   ],
   "source": [
    "def partition(lo, hi, arr):\n",
    "    pivot = arr[hi]\n",
    "    i = lo-1\n",
    "    for j in range(lo, hi):\n",
    "        if arr[j] <= pivot:\n",
    "            i+=1\n",
    "            arr[j], arr[i] = arr[i], arr[j]\n",
    "            \n",
    "    arr[hi], arr[i+1] = arr[i+1], arr[hi]\n",
    "    return i+1\n",
    "\n",
    "def sort(lo, hi, arr):\n",
    "    if lo < hi:\n",
    "        pivot = partition(lo, hi, arr)\n",
    "        sort(lo, pivot-1, arr)\n",
    "        sort(pivot+1, hi, arr)\n",
    "\n",
    "def quicksort(arr):\n",
    "    sort(0, len(arr)-1, arr)\n",
    "    return arr\n",
    "\n",
    "arr = [4,7,9,5,8,1,3,6,2,2,0,1,3]\n",
    "quicksort(arr)"
   ]
  },
  {
   "cell_type": "markdown",
   "metadata": {},
   "source": [
    "## Count Sort"
   ]
  },
  {
   "cell_type": "code",
   "execution_count": 178,
   "metadata": {},
   "outputs": [
    {
     "data": {
      "text/plain": [
       "'adhiimr'"
      ]
     },
     "execution_count": 178,
     "metadata": {},
     "output_type": "execute_result"
    }
   ],
   "source": [
    "def countsort(arr):\n",
    "    index = [0]*128\n",
    "    for x in arr:\n",
    "        index[ord(x)] +=1\n",
    "    i,a = 0,\"\"\n",
    "    while i < 128:\n",
    "        if index[i]>0:\n",
    "            index[i] -=1\n",
    "            a+= chr(i)\n",
    "            i-=1\n",
    "        i+=1 \n",
    "    return a\n",
    "        \n",
    "\n",
    "arr = \"ridhima\"\n",
    "countsort(arr)"
   ]
  },
  {
   "cell_type": "markdown",
   "metadata": {},
   "source": [
    "## Heap Sort"
   ]
  },
  {
   "cell_type": "code",
   "execution_count": 231,
   "metadata": {},
   "outputs": [
    {
     "name": "stdout",
     "output_type": "stream",
     "text": [
      "-2 -1 0 0 0 1 1 1 2 2 3 4 4 5 6 8 "
     ]
    }
   ],
   "source": [
    "class heap():\n",
    "    def __init__(self, arr):\n",
    "        self.h = arr\n",
    "    \n",
    "    def heappop(self, n):\n",
    "        self.h[0], self.h[n] = self.h[n], self.h[0]\n",
    "        temp = self.h.pop()\n",
    "        if n-1>=0:\n",
    "            self.heapify(0, n)\n",
    "        return temp\n",
    "    \n",
    "    def heapify(self, parent, n):\n",
    "        left = 2*parent #left child\n",
    "        right = 2*parent + 1 #right child\n",
    "        minimum = parent\n",
    "        if left < n and self.h[left] < self.h[minimum]:\n",
    "            minimum = left\n",
    "        if right < n and self.h[right] < self.h[minimum]:\n",
    "            minimum = right\n",
    "        if minimum != parent:\n",
    "            self.h[parent], self.h[minimum] = self.h[minimum], self.h[parent]\n",
    "            self.heapify(minimum, n)\n",
    "    \n",
    "    def buildheap(self):\n",
    "        n = len(self.h)\n",
    "        for i in range(n, -1, -1):\n",
    "            self.heapify(i, n)\n",
    "    \n",
    "    def insert(self, x):\n",
    "        self.h.append(x)\n",
    "        l = len(self.h)\n",
    "        self.update(l-1)\n",
    "    \n",
    "    def update(self, i):\n",
    "        parent = (i-1)//2\n",
    "        if parent>-1:\n",
    "            if self.h[i] < self.h[parent]:\n",
    "                self.h[i], self.h[parent] = self.h[parent], self.h[i]\n",
    "                self.update(parent)\n",
    "    \n",
    "def heapsort(arr):\n",
    "    hp = heap(arr)\n",
    "    hp.buildheap()\n",
    "    hp.insert(3)\n",
    "    hp.insert(-1)\n",
    "    hp.insert(-2)\n",
    "    for i in range(len(arr)-1, -1, -1):\n",
    "        print(hp.heappop(i), end=\" \")\n",
    "\n",
    "\n",
    "#arr = [4,7,9,5,8,1,3,6,2,2,0,1,15, 17, 18, 20]\n",
    "arr = [8,6,0,4,1,2,5,4,2,1,1,0,0]\n",
    "heapsort(arr)"
   ]
  },
  {
   "cell_type": "code",
   "execution_count": 15,
   "metadata": {},
   "outputs": [
    {
     "name": "stdout",
     "output_type": "stream",
     "text": [
      "0 1\n",
      "2 1\n",
      "4 1\n",
      "6 1\n",
      "8 1\n",
      "\n",
      "0 2\n",
      "4 2\n",
      "\n",
      "0 4\n",
      "\n",
      "0 8\n",
      "\n"
     ]
    }
   ],
   "source": [
    "amount = 10\n",
    "interval = 1\n",
    "\n",
    "while interval < amount:\n",
    "    for i in range(0, amount - interval, interval *2):\n",
    "        print(i, interval)\n",
    "    print(\"\")\n",
    "    interval *=2\n",
    "    "
   ]
  }
 ],
 "metadata": {
  "kernelspec": {
   "display_name": "Python 3",
   "language": "python",
   "name": "python3"
  },
  "language_info": {
   "codemirror_mode": {
    "name": "ipython",
    "version": 3
   },
   "file_extension": ".py",
   "mimetype": "text/x-python",
   "name": "python",
   "nbconvert_exporter": "python",
   "pygments_lexer": "ipython3",
   "version": "3.6.8"
  }
 },
 "nbformat": 4,
 "nbformat_minor": 2
}
